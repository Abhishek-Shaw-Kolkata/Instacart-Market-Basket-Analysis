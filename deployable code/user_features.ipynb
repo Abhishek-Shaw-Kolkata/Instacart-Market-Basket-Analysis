{
 "cells": [
  {
   "cell_type": "code",
   "execution_count": 5,
   "metadata": {},
   "outputs": [],
   "source": [
    "import pandas as pd\n",
    "from datetime import datetime\n",
    "import numpy as np\n",
    "import os\n",
    "import gc\n",
    "pd.set_option('display.max_columns', 100)\n",
    "from scipy import stats\n",
    "# Here we will calculate user based features such as \n",
    "#                                                   1. Number of orders per User\n",
    "#                                                   2. How frequent a user has reordered products\n",
    "#                                                   3. average days between user's purchases\n",
    "#                                                   4. standard deviation in user's days_since_prior_order\n",
    "#                                                   5. Day of the week the users orders the most\n",
    "#                                                   6. hour of day the user has ordered most.\n",
    "#                                                   7. Total products bought per user \n",
    "#                                                   8. Total unique products ordered\n",
    "def get_user_features(df_prior_final,orders):\n",
    "    '''\n",
    "        Computes user features\n",
    "        Args: \n",
    "            df_prior_final :  Users prior order history\n",
    "            orders : users order data\n",
    "        Returns:\n",
    "                User feature DF\n",
    "    '''\n",
    "    from scipy import stats\n",
    "    user= df_prior_final.groupby('user_id').agg({'order_number' : 'max',\n",
    "                                            'reordered' : 'mean',\n",
    "                                            'days_since_prior_order' : ['mean','std'],\n",
    "                                             'order_dow' : lambda x : stats.mode(x)[0],\n",
    "                                             'order_hour_of_day' : lambda x : stats.mode(x)[0],\n",
    "                                             'order_id' : 'count',\n",
    "                                             'product_id' : lambda x : x.unique().shape[0]}).reset_index()\n",
    "    user.columns = ['user_id','u_total_orders','u_reordered_ratio','u_average_days_between_orders','u_days_between_orders_std','u_dow_most_orders','u_hod_most_orders',\n",
    "                    'u_total_items_bought','u_total_unique_prod']\n",
    "    #print(user.head())\n",
    "    # User's avg basket size\n",
    "    basket_size_per_order = df_prior_final.groupby(by=['user_id', 'order_id'])['product_id'].aggregate('count').to_frame('basket_size_per_order').reset_index()\n",
    "    avg_basket_size = basket_size_per_order.groupby(by=['user_id']).agg({'basket_size_per_order' : ['sum','mean','std']}).reset_index()\n",
    "    #deleting the avg_basket_size dataframe\n",
    "    avg_basket_size.columns = ['user_id','u_basket_sum','u_avg_basket_size','u_basket_std']\n",
    "    del [basket_size_per_order]\n",
    "    gc.collect()\n",
    "    print(avg_basket_size.head())\n",
    "    \n",
    "    # combining both user and avg_basket_size DF based on user_id\n",
    "    # u_date_inscription : max date for each user excluding last order\n",
    "    user = user.merge(avg_basket_size,on='user_id', how='left')\n",
    "    users_fe = orders.query(\"order_number_reverse != 0\").groupby(\"user_id\").agg({'date': 'max'}).rename(columns={'date' :'u_date_inscription'}).reset_index()\n",
    "    user = user.merge(users_fe,on='user_id', how='left')\n",
    "    print(user.head())\n",
    "    return user"
   ]
  }
 ],
 "metadata": {
  "kernelspec": {
   "display_name": "Python 3",
   "language": "python",
   "name": "python3"
  },
  "language_info": {
   "codemirror_mode": {
    "name": "ipython",
    "version": 3
   },
   "file_extension": ".py",
   "mimetype": "text/x-python",
   "name": "python",
   "nbconvert_exporter": "python",
   "pygments_lexer": "ipython3",
   "version": "3.7.8"
  }
 },
 "nbformat": 4,
 "nbformat_minor": 4
}
