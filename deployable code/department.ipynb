{
 "cells": [
  {
   "cell_type": "code",
   "execution_count": 9,
   "metadata": {},
   "outputs": [],
   "source": [
    "import pandas as pd\n",
    "from datetime import datetime\n",
    "import numpy as np\n",
    "import os\n",
    "import gc\n",
    "pd.set_option('display.max_columns', 100)\n",
    "from scipy import stats\n",
    "def get_department_features(df_prior_final,user):\n",
    "    '''\n",
    "        Computes user x department features\n",
    "        Args: \n",
    "            df_prior_final :  Users prior order history\n",
    "            user : DF of user features\n",
    "        Returns:\n",
    "                User x department feature DF\n",
    "    '''\n",
    "    #             1.Number of purchases for each department\n",
    "    #             2.How frequent a department has been reordered\n",
    "    #             3.Mean add to cart for each department.\n",
    "    #             4.user base for each department \n",
    "    department = df_prior_final.groupby('department_id').agg({'order_id' : 'count',\n",
    "                                                    'reordered' : 'mean',\n",
    "                                                    'add_to_cart_order': 'mean',\n",
    "                                                    'user_id' : lambda x : x.unique().shape[0]\n",
    "                                                    }).reset_index()\n",
    "    department.columns = ['department_id','d_total_purchases','d_reorder_ratio','d_avg_cart_position','d_unique_user_count']\n",
    "    department.head()\n",
    "    # uxa_unique_products_ratio : Ratio of products purchased by the user in this department\n",
    "    uxd= df_prior_final.groupby(['user_id', 'department_id']).agg({'product_id' : 'nunique',\n",
    "                                                                'order_id': 'size' }).reset_index()\n",
    "    uxd.columns = ['user_id','department_id','uxd_total_unique_products','uxd_total_ordered']\n",
    "    uxd.head()\n",
    "    uxd= pd.merge(uxd, user[[\"user_id\", \"u_tot_active_prod\"]], how=\"left\", on=\"user_id\")\n",
    "    uxd[\"uxd_unique_products_ratio\"] = uxd[\"uxd_total_unique_products\"] / uxd[\"u_tot_active_prod\"]\n",
    "    uxd= uxd.drop(\"u_tot_active_prod\", axis=1)\n",
    "    #uxd.head()\n",
    "    # a_tot_active_user : Number of users for a department that has been reordered \n",
    "    # a_reorder_ratio_bool : mean reorder value across usres for a particular department\n",
    "    uxd[\"uxd_bool_reordered\"] = (uxd[\"uxd_total_ordered\"] > 1).astype(\"int\")\n",
    "\n",
    "    departments_fe = uxd.groupby('department_id')[\"uxd_bool_reordered\"]. \\\n",
    "        agg([\"mean\", \"size\"]).reset_index(). \\\n",
    "        rename(index=str, columns={\"mean\": \"a_reorder_ratio_bool\", \"size\": \"a_tot_active_user\"})\n",
    "\n",
    "    department = pd.merge(department, departments_fe, how=\"left\", on=\"department_id\")\n",
    "    uxd.drop(['uxd_bool_reordered'],axis=1,inplace=True)\n",
    "    del departments_fe\n",
    "    department.head()\n",
    "    uxd = uxd.merge(department,on='department_id')\n",
    "    del department\n",
    "    return uxd"
   ]
  }
 ],
 "metadata": {
  "kernelspec": {
   "display_name": "Python 3",
   "language": "python",
   "name": "python3"
  },
  "language_info": {
   "codemirror_mode": {
    "name": "ipython",
    "version": 3
   },
   "file_extension": ".py",
   "mimetype": "text/x-python",
   "name": "python",
   "nbconvert_exporter": "python",
   "pygments_lexer": "ipython3",
   "version": "3.7.8"
  }
 },
 "nbformat": 4,
 "nbformat_minor": 4
}
