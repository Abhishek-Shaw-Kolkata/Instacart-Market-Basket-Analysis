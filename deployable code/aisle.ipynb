{
 "cells": [
  {
   "cell_type": "code",
   "execution_count": 3,
   "metadata": {},
   "outputs": [],
   "source": [
    "import pandas as pd\n",
    "from datetime import datetime\n",
    "import numpy as np\n",
    "import os\n",
    "import gc\n",
    "pd.set_option('display.max_columns', 100)\n",
    "from scipy import stats\n",
    "def get_aisle_features(df_prior_final,user):\n",
    "    '''\n",
    "        Computes user x aisle features\n",
    "        Args: \n",
    "            df_prior_final :  Users prior order history\n",
    "            user : DF of user features\n",
    "        Returns:\n",
    "                User x aisle feature DF\n",
    "    '''\n",
    "    #             1.Number of purchases for each aisle\n",
    "    #             2.How frequent a aisle has been reordered\n",
    "    #             3.Mean add to cart for each aisle.\n",
    "    #             4.user base for each aisle \n",
    "    aisle = df_prior_final.groupby('aisle_id').agg({'order_id' : 'count',\n",
    "                                                    'reordered' : 'mean',\n",
    "                                                    'add_to_cart_order': 'mean',\n",
    "                                                    'user_id' : lambda x : x.unique().shape[0]\n",
    "                                                    }).reset_index()\n",
    "    aisle.columns = ['aisle_id','a_total_purchases','a_reorder_ratio','a_avg_cart_position','a_unique_user_count']\n",
    "   # aisle.head()\n",
    "\n",
    "    # uxa_unique_products_ratio : Ratio of products purchased by the user in this aisle\n",
    "    uxa = df_prior_final.groupby(['user_id', 'aisle_id']).agg({'product_id' : 'nunique',\n",
    "                                                                'order_id': 'size' }).reset_index()\n",
    "    uxa.columns = ['user_id','aisle_id','uxa_total_unique_products','uxa_total_ordered']\n",
    "    #uxa.head()\n",
    "    uxa= pd.merge(uxa, user[[\"user_id\", \"u_tot_active_prod\"]], how=\"left\", on=\"user_id\")\n",
    "    uxa[\"uxa_unique_products_ratio\"] = uxa[\"uxa_total_unique_products\"] / uxa[\"u_tot_active_prod\"]\n",
    "    uxa= uxa.drop(\"u_tot_active_prod\", axis=1)\n",
    "    #uxa\n",
    "    # a_tot_active_user : Number of users for a aisle that has been reordered \n",
    "    # a_reorder_ratio_bool : mean reorder value across usres for a particular aisle\n",
    "    uxa[\"uxa_bool_reordered\"] = (uxa[\"uxa_total_ordered\"] > 1).astype(\"int\")\n",
    "\n",
    "    aisles_fe = uxa.groupby('aisle_id')[\"uxa_bool_reordered\"]. \\\n",
    "        agg([\"mean\", \"size\"]).reset_index(). \\\n",
    "        rename(index=str, columns={\"mean\": \"a_reorder_ratio_bool\", \"size\": \"a_tot_active_user\"})\n",
    "\n",
    "    aisles = pd.merge(aisle, aisles_fe, how=\"left\", on=\"aisle_id\")\n",
    "    uxa.drop(['uxa_bool_reordered'],axis=1,inplace=True)\n",
    "    del aisles_fe\n",
    "    #aisles.head()\n",
    "    # Merging features\n",
    "    uxa = uxa.merge(aisle,on='aisle_id')\n",
    "    del aisle\n",
    "    return uxa"
   ]
  }
 ],
 "metadata": {
  "kernelspec": {
   "display_name": "Python 3",
   "language": "python",
   "name": "python3"
  },
  "language_info": {
   "codemirror_mode": {
    "name": "ipython",
    "version": 3
   },
   "file_extension": ".py",
   "mimetype": "text/x-python",
   "name": "python",
   "nbconvert_exporter": "python",
   "pygments_lexer": "ipython3",
   "version": "3.7.8"
  }
 },
 "nbformat": 4,
 "nbformat_minor": 4
}
